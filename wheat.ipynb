{
 "cells": [
  {
   "cell_type": "markdown",
   "id": "c1abb437",
   "metadata": {},
   "source": [
    "# Wheat Dataset Analysis\n",
    "In this notebook, we'll conduct a comprehensive analysis of the wheat dataset. The analysis will encompass data loading, exploration, cleaning, and transformation. By the end, we'll have a clear understanding of the dataset's structure, its missing values, and any necessary transformations for further analysis.\n"
   ]
  },
  {
   "cell_type": "markdown",
   "id": "21c8670a",
   "metadata": {},
   "source": [
    "# Step 1: Data exploration:\n",
    "\n",
    "## Library Imports\n",
    "\n",
    "\n",
    "We start by importing the `pandas` library, which will help us load, explore, and transform the dataset."
   ]
  },
  {
   "cell_type": "code",
   "execution_count": 1,
   "id": "0280071a",
   "metadata": {},
   "outputs": [],
   "source": [
    "\n",
    "import pandas as pd\n",
    "import matplotlib.pyplot as plt\n",
    "import seaborn as sns\n",
    "import numpy as np"
   ]
  },
  {
   "cell_type": "markdown",
   "id": "443cae78",
   "metadata": {},
   "source": [
    "## 1. Loading the wheat Dataset\n",
    "\n",
    "Next, we load the dataset into a DataFrame, which is a 2-dimensional labeled data structure in pandas. This allows us to view and manipulate the data in a tabular form."
   ]
  },
  {
   "cell_type": "code",
   "execution_count": 2,
   "id": "9c50e76f",
   "metadata": {},
   "outputs": [
    {
     "data": {
      "text/html": [
       "<div>\n",
       "<style scoped>\n",
       "    .dataframe tbody tr th:only-of-type {\n",
       "        vertical-align: middle;\n",
       "    }\n",
       "\n",
       "    .dataframe tbody tr th {\n",
       "        vertical-align: top;\n",
       "    }\n",
       "\n",
       "    .dataframe thead th {\n",
       "        text-align: right;\n",
       "    }\n",
       "</style>\n",
       "<table border=\"1\" class=\"dataframe\">\n",
       "  <thead>\n",
       "    <tr style=\"text-align: right;\">\n",
       "      <th></th>\n",
       "      <th>Unnamed: 0</th>\n",
       "      <th>Harvest_year</th>\n",
       "      <th>admin0</th>\n",
       "      <th>admin1</th>\n",
       "      <th>crop</th>\n",
       "      <th>hectares (ha)</th>\n",
       "      <th>production (tonnes)</th>\n",
       "      <th>year</th>\n",
       "      <th>yield(tonnes/ha)</th>\n",
       "      <th>admin2</th>\n",
       "      <th>notes</th>\n",
       "    </tr>\n",
       "  </thead>\n",
       "  <tbody>\n",
       "    <tr>\n",
       "      <th>0</th>\n",
       "      <td>0</td>\n",
       "      <td>1902</td>\n",
       "      <td>Austria</td>\n",
       "      <td>NaN</td>\n",
       "      <td>wheat</td>\n",
       "      <td>NaN</td>\n",
       "      <td>NaN</td>\n",
       "      <td>1902</td>\n",
       "      <td>1.31</td>\n",
       "      <td>NaN</td>\n",
       "      <td>NaN</td>\n",
       "    </tr>\n",
       "    <tr>\n",
       "      <th>1</th>\n",
       "      <td>1</td>\n",
       "      <td>1903</td>\n",
       "      <td>Austria</td>\n",
       "      <td>NaN</td>\n",
       "      <td>wheat</td>\n",
       "      <td>NaN</td>\n",
       "      <td>NaN</td>\n",
       "      <td>1903</td>\n",
       "      <td>1.47</td>\n",
       "      <td>NaN</td>\n",
       "      <td>NaN</td>\n",
       "    </tr>\n",
       "    <tr>\n",
       "      <th>2</th>\n",
       "      <td>2</td>\n",
       "      <td>1904</td>\n",
       "      <td>Austria</td>\n",
       "      <td>NaN</td>\n",
       "      <td>wheat</td>\n",
       "      <td>NaN</td>\n",
       "      <td>NaN</td>\n",
       "      <td>1904</td>\n",
       "      <td>1.27</td>\n",
       "      <td>NaN</td>\n",
       "      <td>NaN</td>\n",
       "    </tr>\n",
       "    <tr>\n",
       "      <th>3</th>\n",
       "      <td>3</td>\n",
       "      <td>1905</td>\n",
       "      <td>Austria</td>\n",
       "      <td>NaN</td>\n",
       "      <td>wheat</td>\n",
       "      <td>NaN</td>\n",
       "      <td>NaN</td>\n",
       "      <td>1905</td>\n",
       "      <td>1.33</td>\n",
       "      <td>NaN</td>\n",
       "      <td>NaN</td>\n",
       "    </tr>\n",
       "    <tr>\n",
       "      <th>4</th>\n",
       "      <td>4</td>\n",
       "      <td>1906</td>\n",
       "      <td>Austria</td>\n",
       "      <td>NaN</td>\n",
       "      <td>wheat</td>\n",
       "      <td>NaN</td>\n",
       "      <td>NaN</td>\n",
       "      <td>1906</td>\n",
       "      <td>1.28</td>\n",
       "      <td>NaN</td>\n",
       "      <td>NaN</td>\n",
       "    </tr>\n",
       "  </tbody>\n",
       "</table>\n",
       "</div>"
      ],
      "text/plain": [
       "   Unnamed: 0  Harvest_year   admin0 admin1   crop  hectares (ha)  \\\n",
       "0           0          1902  Austria    NaN  wheat            NaN   \n",
       "1           1          1903  Austria    NaN  wheat            NaN   \n",
       "2           2          1904  Austria    NaN  wheat            NaN   \n",
       "3           3          1905  Austria    NaN  wheat            NaN   \n",
       "4           4          1906  Austria    NaN  wheat            NaN   \n",
       "\n",
       "   production (tonnes)  year  yield(tonnes/ha)  admin2 notes  \n",
       "0                  NaN  1902              1.31     NaN   NaN  \n",
       "1                  NaN  1903              1.47     NaN   NaN  \n",
       "2                  NaN  1904              1.27     NaN   NaN  \n",
       "3                  NaN  1905              1.33     NaN   NaN  \n",
       "4                  NaN  1906              1.28     NaN   NaN  "
      ]
     },
     "execution_count": 2,
     "metadata": {},
     "output_type": "execute_result"
    }
   ],
   "source": [
    "# Load the dataset\n",
    "data = pd.read_csv('./resources/CropStats.csv')\n",
    "data.head()\n"
   ]
  },
  {
   "cell_type": "markdown",
   "id": "9edd91e0",
   "metadata": {},
   "source": [
    "## 2. Data filtering\n",
    "\n",
    "We filter the dataset based on crop type, we're only intrested in wheat crop."
   ]
  },
  {
   "cell_type": "code",
   "execution_count": 3,
   "id": "f4bb965d",
   "metadata": {},
   "outputs": [
    {
     "data": {
      "text/html": [
       "<div>\n",
       "<style scoped>\n",
       "    .dataframe tbody tr th:only-of-type {\n",
       "        vertical-align: middle;\n",
       "    }\n",
       "\n",
       "    .dataframe tbody tr th {\n",
       "        vertical-align: top;\n",
       "    }\n",
       "\n",
       "    .dataframe thead th {\n",
       "        text-align: right;\n",
       "    }\n",
       "</style>\n",
       "<table border=\"1\" class=\"dataframe\">\n",
       "  <thead>\n",
       "    <tr style=\"text-align: right;\">\n",
       "      <th></th>\n",
       "      <th>Unnamed: 0</th>\n",
       "      <th>Harvest_year</th>\n",
       "      <th>admin0</th>\n",
       "      <th>admin1</th>\n",
       "      <th>crop</th>\n",
       "      <th>hectares (ha)</th>\n",
       "      <th>production (tonnes)</th>\n",
       "      <th>year</th>\n",
       "      <th>yield(tonnes/ha)</th>\n",
       "      <th>admin2</th>\n",
       "      <th>notes</th>\n",
       "    </tr>\n",
       "  </thead>\n",
       "  <tbody>\n",
       "    <tr>\n",
       "      <th>0</th>\n",
       "      <td>0</td>\n",
       "      <td>1902</td>\n",
       "      <td>Austria</td>\n",
       "      <td>NaN</td>\n",
       "      <td>wheat</td>\n",
       "      <td>NaN</td>\n",
       "      <td>NaN</td>\n",
       "      <td>1902</td>\n",
       "      <td>1.31</td>\n",
       "      <td>NaN</td>\n",
       "      <td>NaN</td>\n",
       "    </tr>\n",
       "    <tr>\n",
       "      <th>1</th>\n",
       "      <td>1</td>\n",
       "      <td>1903</td>\n",
       "      <td>Austria</td>\n",
       "      <td>NaN</td>\n",
       "      <td>wheat</td>\n",
       "      <td>NaN</td>\n",
       "      <td>NaN</td>\n",
       "      <td>1903</td>\n",
       "      <td>1.47</td>\n",
       "      <td>NaN</td>\n",
       "      <td>NaN</td>\n",
       "    </tr>\n",
       "    <tr>\n",
       "      <th>2</th>\n",
       "      <td>2</td>\n",
       "      <td>1904</td>\n",
       "      <td>Austria</td>\n",
       "      <td>NaN</td>\n",
       "      <td>wheat</td>\n",
       "      <td>NaN</td>\n",
       "      <td>NaN</td>\n",
       "      <td>1904</td>\n",
       "      <td>1.27</td>\n",
       "      <td>NaN</td>\n",
       "      <td>NaN</td>\n",
       "    </tr>\n",
       "    <tr>\n",
       "      <th>3</th>\n",
       "      <td>3</td>\n",
       "      <td>1905</td>\n",
       "      <td>Austria</td>\n",
       "      <td>NaN</td>\n",
       "      <td>wheat</td>\n",
       "      <td>NaN</td>\n",
       "      <td>NaN</td>\n",
       "      <td>1905</td>\n",
       "      <td>1.33</td>\n",
       "      <td>NaN</td>\n",
       "      <td>NaN</td>\n",
       "    </tr>\n",
       "    <tr>\n",
       "      <th>4</th>\n",
       "      <td>4</td>\n",
       "      <td>1906</td>\n",
       "      <td>Austria</td>\n",
       "      <td>NaN</td>\n",
       "      <td>wheat</td>\n",
       "      <td>NaN</td>\n",
       "      <td>NaN</td>\n",
       "      <td>1906</td>\n",
       "      <td>1.28</td>\n",
       "      <td>NaN</td>\n",
       "      <td>NaN</td>\n",
       "    </tr>\n",
       "  </tbody>\n",
       "</table>\n",
       "</div>"
      ],
      "text/plain": [
       "   Unnamed: 0  Harvest_year   admin0 admin1   crop  hectares (ha)  \\\n",
       "0           0          1902  Austria    NaN  wheat            NaN   \n",
       "1           1          1903  Austria    NaN  wheat            NaN   \n",
       "2           2          1904  Austria    NaN  wheat            NaN   \n",
       "3           3          1905  Austria    NaN  wheat            NaN   \n",
       "4           4          1906  Austria    NaN  wheat            NaN   \n",
       "\n",
       "   production (tonnes)  year  yield(tonnes/ha)  admin2 notes  \n",
       "0                  NaN  1902              1.31     NaN   NaN  \n",
       "1                  NaN  1903              1.47     NaN   NaN  \n",
       "2                  NaN  1904              1.27     NaN   NaN  \n",
       "3                  NaN  1905              1.33     NaN   NaN  \n",
       "4                  NaN  1906              1.28     NaN   NaN  "
      ]
     },
     "execution_count": 3,
     "metadata": {},
     "output_type": "execute_result"
    }
   ],
   "source": [
    "# Filter the data for \"wheat\", \"winter wheat\", and \"spring wheat\"\n",
    "filtered_data = data[data['crop'].isin(['wheat', 'winter wheat', 'spring wheat'])]\n",
    "\n",
    "# Display the first few rows of the filtered dataframe\n",
    "data = filtered_data\n",
    "data.head()"
   ]
  },
  {
   "cell_type": "markdown",
   "id": "1946c479",
   "metadata": {},
   "source": [
    "\n",
    "## 3. Inspecting Data Types\n",
    "\n",
    "Understanding the data types of each column is crucial. It informs us about the nature of the data we're dealing with and helps identify if a column's type aligns with the kind of data it represents."
   ]
  },
  {
   "cell_type": "code",
   "execution_count": 4,
   "id": "2726326f",
   "metadata": {},
   "outputs": [
    {
     "data": {
      "text/plain": [
       "Unnamed: 0               int64\n",
       "Harvest_year             int64\n",
       "admin0                  object\n",
       "admin1                  object\n",
       "crop                    object\n",
       "hectares (ha)          float64\n",
       "production (tonnes)    float64\n",
       "year                     int64\n",
       "yield(tonnes/ha)       float64\n",
       "admin2                 float64\n",
       "notes                   object\n",
       "dtype: object"
      ]
     },
     "execution_count": 4,
     "metadata": {},
     "output_type": "execute_result"
    }
   ],
   "source": [
    "\n",
    "# Inspect the data types of the columns\n",
    "data_types = data.dtypes\n",
    "data_types\n"
   ]
  },
  {
   "cell_type": "markdown",
   "id": "ec7f2acf",
   "metadata": {},
   "source": [
    "The data types seem appropriate for each column, except for the admin2 column which may need to be converted if it's supposed to be a categorical variable instead of numeric. Additionally, we still have the redundant year columns (Harvest_year and year) to address."
   ]
  },
  {
   "cell_type": "markdown",
   "id": "80568ed7",
   "metadata": {},
   "source": [
    "## 4. Descriptive Statistics of the Dataset\n",
    "\n",
    "Descriptive statistics provide a quick summary of the central tendencies, dispersion, and shape of the dataset's distribution. This step helps us grasp the dataset's overall characteristics.\n"
   ]
  },
  {
   "cell_type": "code",
   "execution_count": 5,
   "id": "fc3c9d4d",
   "metadata": {},
   "outputs": [
    {
     "data": {
      "text/html": [
       "<div>\n",
       "<style scoped>\n",
       "    .dataframe tbody tr th:only-of-type {\n",
       "        vertical-align: middle;\n",
       "    }\n",
       "\n",
       "    .dataframe tbody tr th {\n",
       "        vertical-align: top;\n",
       "    }\n",
       "\n",
       "    .dataframe thead th {\n",
       "        text-align: right;\n",
       "    }\n",
       "</style>\n",
       "<table border=\"1\" class=\"dataframe\">\n",
       "  <thead>\n",
       "    <tr style=\"text-align: right;\">\n",
       "      <th></th>\n",
       "      <th>Unnamed: 0</th>\n",
       "      <th>Harvest_year</th>\n",
       "      <th>hectares (ha)</th>\n",
       "      <th>production (tonnes)</th>\n",
       "      <th>year</th>\n",
       "      <th>yield(tonnes/ha)</th>\n",
       "      <th>admin2</th>\n",
       "    </tr>\n",
       "  </thead>\n",
       "  <tbody>\n",
       "    <tr>\n",
       "      <th>count</th>\n",
       "      <td>22027.000000</td>\n",
       "      <td>22027.000000</td>\n",
       "      <td>2.115300e+04</td>\n",
       "      <td>2.089600e+04</td>\n",
       "      <td>22027.000000</td>\n",
       "      <td>21292.000000</td>\n",
       "      <td>0.0</td>\n",
       "    </tr>\n",
       "    <tr>\n",
       "      <th>mean</th>\n",
       "      <td>17662.056885</td>\n",
       "      <td>1956.597176</td>\n",
       "      <td>6.366753e+05</td>\n",
       "      <td>1.178976e+06</td>\n",
       "      <td>1956.587779</td>\n",
       "      <td>2.151840</td>\n",
       "      <td>NaN</td>\n",
       "    </tr>\n",
       "    <tr>\n",
       "      <th>std</th>\n",
       "      <td>11039.147354</td>\n",
       "      <td>38.040130</td>\n",
       "      <td>1.704784e+06</td>\n",
       "      <td>3.826165e+06</td>\n",
       "      <td>38.037994</td>\n",
       "      <td>1.595280</td>\n",
       "      <td>NaN</td>\n",
       "    </tr>\n",
       "    <tr>\n",
       "      <th>min</th>\n",
       "      <td>0.000000</td>\n",
       "      <td>1861.000000</td>\n",
       "      <td>0.000000e+00</td>\n",
       "      <td>0.000000e+00</td>\n",
       "      <td>1861.000000</td>\n",
       "      <td>0.053289</td>\n",
       "      <td>NaN</td>\n",
       "    </tr>\n",
       "    <tr>\n",
       "      <th>25%</th>\n",
       "      <td>7202.500000</td>\n",
       "      <td>1929.000000</td>\n",
       "      <td>4.800000e+04</td>\n",
       "      <td>7.184847e+04</td>\n",
       "      <td>1929.000000</td>\n",
       "      <td>1.028556</td>\n",
       "      <td>NaN</td>\n",
       "    </tr>\n",
       "    <tr>\n",
       "      <th>50%</th>\n",
       "      <td>15648.000000</td>\n",
       "      <td>1959.000000</td>\n",
       "      <td>1.932550e+05</td>\n",
       "      <td>2.971730e+05</td>\n",
       "      <td>1959.000000</td>\n",
       "      <td>1.614035</td>\n",
       "      <td>NaN</td>\n",
       "    </tr>\n",
       "    <tr>\n",
       "      <th>75%</th>\n",
       "      <td>27817.500000</td>\n",
       "      <td>1989.000000</td>\n",
       "      <td>5.674000e+05</td>\n",
       "      <td>9.849884e+05</td>\n",
       "      <td>1989.000000</td>\n",
       "      <td>2.806869</td>\n",
       "      <td>NaN</td>\n",
       "    </tr>\n",
       "    <tr>\n",
       "      <th>max</th>\n",
       "      <td>36706.000000</td>\n",
       "      <td>2019.000000</td>\n",
       "      <td>3.147000e+07</td>\n",
       "      <td>9.851000e+07</td>\n",
       "      <td>2018.000000</td>\n",
       "      <td>10.015200</td>\n",
       "      <td>NaN</td>\n",
       "    </tr>\n",
       "  </tbody>\n",
       "</table>\n",
       "</div>"
      ],
      "text/plain": [
       "         Unnamed: 0  Harvest_year  hectares (ha)  production (tonnes)  \\\n",
       "count  22027.000000  22027.000000   2.115300e+04         2.089600e+04   \n",
       "mean   17662.056885   1956.597176   6.366753e+05         1.178976e+06   \n",
       "std    11039.147354     38.040130   1.704784e+06         3.826165e+06   \n",
       "min        0.000000   1861.000000   0.000000e+00         0.000000e+00   \n",
       "25%     7202.500000   1929.000000   4.800000e+04         7.184847e+04   \n",
       "50%    15648.000000   1959.000000   1.932550e+05         2.971730e+05   \n",
       "75%    27817.500000   1989.000000   5.674000e+05         9.849884e+05   \n",
       "max    36706.000000   2019.000000   3.147000e+07         9.851000e+07   \n",
       "\n",
       "               year  yield(tonnes/ha)  admin2  \n",
       "count  22027.000000      21292.000000     0.0  \n",
       "mean    1956.587779          2.151840     NaN  \n",
       "std       38.037994          1.595280     NaN  \n",
       "min     1861.000000          0.053289     NaN  \n",
       "25%     1929.000000          1.028556     NaN  \n",
       "50%     1959.000000          1.614035     NaN  \n",
       "75%     1989.000000          2.806869     NaN  \n",
       "max     2018.000000         10.015200     NaN  "
      ]
     },
     "execution_count": 5,
     "metadata": {},
     "output_type": "execute_result"
    }
   ],
   "source": [
    "# Display summary statistics\n",
    "summary_statistics = data.describe()\n",
    "summary_statistics"
   ]
  },
  {
   "cell_type": "markdown",
   "id": "3a68d00c",
   "metadata": {},
   "source": [
    "**We can see that:**\n",
    "\n",
    "- There's a strong correlation between Harvest_year and year, suggesting they are duplicates.\n",
    "- The admin2 column has no data and might need to be dropped.\n",
    "- The notes column has many missing values but contains categorical information that could be useful depending on the analysis."
   ]
  },
  {
   "cell_type": "markdown",
   "id": "0c6decb5",
   "metadata": {},
   "source": [
    "## 5. Checking for Missing Values\n",
    "\n",
    "Identifying missing values is essential as they can significantly impact the results of any analysis. Knowing where we have gaps allows us to make informed decisions on data imputation or removal."
   ]
  },
  {
   "cell_type": "code",
   "execution_count": 6,
   "id": "e9c20d91",
   "metadata": {},
   "outputs": [
    {
     "data": {
      "text/plain": [
       "Unnamed: 0                 0\n",
       "Harvest_year               0\n",
       "admin0                     0\n",
       "admin1                  2126\n",
       "crop                       0\n",
       "hectares (ha)            874\n",
       "production (tonnes)     1131\n",
       "year                       0\n",
       "yield(tonnes/ha)         735\n",
       "admin2                 22027\n",
       "notes                  19178\n",
       "dtype: int64"
      ]
     },
     "execution_count": 6,
     "metadata": {},
     "output_type": "execute_result"
    }
   ],
   "source": [
    "\n",
    "# Check for missing values\n",
    "missing_values = data.isnull().sum()\n",
    "missing_values"
   ]
  },
  {
   "cell_type": "markdown",
   "id": "f5da694f",
   "metadata": {},
   "source": [
    "Here's the summary of missing values in the filtered wheat dataset:\n",
    "\n",
    "- admin1: 2,126 missing values, which is about 9.65% of its data.\n",
    "- hectares (ha): 874 missing values, approximately 3.97% of its data.\n",
    "- production (tonnes): 1,131 missing values, about 5.13% of its data.\n",
    "- yield(tonnes/ha): 735 missing values, roughly 3.34% of its data.\n",
    "- admin2: 22,027 missing values, which is 100% of its data; this column is entirely empty.\n",
    "- notes: 19,178 missing values, making up 87.07% of its data; this column is mostly empty.\n",
    "\n",
    "Given that admin2 is completely empty, it should be removed. The notes column, while mostly empty, may contain valuable information for specific analyses and needs a decision on how to handle it.\n",
    "\n",
    "For the other columns with missing values, we should determine the best course of action.\n"
   ]
  },
  {
   "cell_type": "markdown",
   "id": "24e20bfb",
   "metadata": {},
   "source": [
    "\n",
    "## 6. Checking for Duplicated Rows\n",
    "\n",
    "Duplicate rows can skew our analysis, so it's essential to identify and handle them. We'll check if there are any repeated rows in the dataset.\n"
   ]
  },
  {
   "cell_type": "code",
   "execution_count": 7,
   "id": "ff7a8586",
   "metadata": {},
   "outputs": [
    {
     "data": {
      "text/plain": [
       "0"
      ]
     },
     "execution_count": 7,
     "metadata": {},
     "output_type": "execute_result"
    }
   ],
   "source": [
    "# Check for duplicated rows\n",
    "duplicated_rows = data[data.duplicated()]\n",
    "duplicated_rows_count = duplicated_rows.shape[0]\n",
    "duplicated_rows_count"
   ]
  },
  {
   "cell_type": "markdown",
   "id": "9ca8f5b3",
   "metadata": {},
   "source": [
    "There are no duplicate rows in the filtered wheat dataset. Each row is unique based on the combination of all columns."
   ]
  },
  {
   "cell_type": "markdown",
   "id": "0236ec33",
   "metadata": {},
   "source": [
    "\n",
    "# Step 2: Data Cleaning and Transformation\n",
    "\n",
    "To make our data more accessible and understandable, we'll perform several cleaning and transformation steps:\n",
    "- Convert the 'Harvest_year' column to a proper date format.\n",
    "- Drop columns that are redundant or have no meaningful data.\n",
    "- Rename columns for better clarity."
   ]
  },
  {
   "cell_type": "code",
   "execution_count": 8,
   "id": "e57429a7",
   "metadata": {},
   "outputs": [
    {
     "data": {
      "text/html": [
       "<div>\n",
       "<style scoped>\n",
       "    .dataframe tbody tr th:only-of-type {\n",
       "        vertical-align: middle;\n",
       "    }\n",
       "\n",
       "    .dataframe tbody tr th {\n",
       "        vertical-align: top;\n",
       "    }\n",
       "\n",
       "    .dataframe thead th {\n",
       "        text-align: right;\n",
       "    }\n",
       "</style>\n",
       "<table border=\"1\" class=\"dataframe\">\n",
       "  <thead>\n",
       "    <tr style=\"text-align: right;\">\n",
       "      <th></th>\n",
       "      <th>Harvest_year</th>\n",
       "      <th>country</th>\n",
       "      <th>admin1</th>\n",
       "      <th>crop</th>\n",
       "      <th>hectares (ha)</th>\n",
       "      <th>production (tonnes)</th>\n",
       "      <th>yield(tonnes/ha)</th>\n",
       "      <th>notes</th>\n",
       "    </tr>\n",
       "  </thead>\n",
       "  <tbody>\n",
       "    <tr>\n",
       "      <th>0</th>\n",
       "      <td>1902</td>\n",
       "      <td>Austria</td>\n",
       "      <td>NaN</td>\n",
       "      <td>wheat</td>\n",
       "      <td>NaN</td>\n",
       "      <td>NaN</td>\n",
       "      <td>1.31</td>\n",
       "      <td>NaN</td>\n",
       "    </tr>\n",
       "    <tr>\n",
       "      <th>1</th>\n",
       "      <td>1903</td>\n",
       "      <td>Austria</td>\n",
       "      <td>NaN</td>\n",
       "      <td>wheat</td>\n",
       "      <td>NaN</td>\n",
       "      <td>NaN</td>\n",
       "      <td>1.47</td>\n",
       "      <td>NaN</td>\n",
       "    </tr>\n",
       "    <tr>\n",
       "      <th>2</th>\n",
       "      <td>1904</td>\n",
       "      <td>Austria</td>\n",
       "      <td>NaN</td>\n",
       "      <td>wheat</td>\n",
       "      <td>NaN</td>\n",
       "      <td>NaN</td>\n",
       "      <td>1.27</td>\n",
       "      <td>NaN</td>\n",
       "    </tr>\n",
       "    <tr>\n",
       "      <th>3</th>\n",
       "      <td>1905</td>\n",
       "      <td>Austria</td>\n",
       "      <td>NaN</td>\n",
       "      <td>wheat</td>\n",
       "      <td>NaN</td>\n",
       "      <td>NaN</td>\n",
       "      <td>1.33</td>\n",
       "      <td>NaN</td>\n",
       "    </tr>\n",
       "    <tr>\n",
       "      <th>4</th>\n",
       "      <td>1906</td>\n",
       "      <td>Austria</td>\n",
       "      <td>NaN</td>\n",
       "      <td>wheat</td>\n",
       "      <td>NaN</td>\n",
       "      <td>NaN</td>\n",
       "      <td>1.28</td>\n",
       "      <td>NaN</td>\n",
       "    </tr>\n",
       "  </tbody>\n",
       "</table>\n",
       "</div>"
      ],
      "text/plain": [
       "   Harvest_year  country admin1   crop  hectares (ha)  production (tonnes)  \\\n",
       "0          1902  Austria    NaN  wheat            NaN                  NaN   \n",
       "1          1903  Austria    NaN  wheat            NaN                  NaN   \n",
       "2          1904  Austria    NaN  wheat            NaN                  NaN   \n",
       "3          1905  Austria    NaN  wheat            NaN                  NaN   \n",
       "4          1906  Austria    NaN  wheat            NaN                  NaN   \n",
       "\n",
       "   yield(tonnes/ha) notes  \n",
       "0              1.31   NaN  \n",
       "1              1.47   NaN  \n",
       "2              1.27   NaN  \n",
       "3              1.33   NaN  \n",
       "4              1.28   NaN  "
      ]
     },
     "execution_count": 8,
     "metadata": {},
     "output_type": "execute_result"
    }
   ],
   "source": [
    "# Convert 'Harvest_year' to datetime, drop columns, and rename\n",
    "data['Harvest_year'] = pd.to_datetime(data['Harvest_year'], format='%Y').dt.year\n",
    "columns_to_drop = ['Unnamed: 0', 'year', 'admin2']\n",
    "data = data.drop(columns=columns_to_drop)\n",
    "data = data.rename(columns={'admin0': 'country'})\n",
    "data.head()"
   ]
  },
  {
   "cell_type": "markdown",
   "id": "953be3ef",
   "metadata": {},
   "source": [
    "**The dataframe now has the following structure:**\n",
    "\n",
    "- `Harvest_Date`: The date of the harvest (datetime format)\n",
    "- `admin0`: The country name (string)\n",
    "- `admin1`: Subnational region (string)\n",
    "- `crop`: Type of wheat (string)\n",
    "- `Harvested_Area_ha`: Area harvested in hectares (floating-point number)\n",
    "- `Production_Tonnes`: Production in tonnes (floating-point number)\n",
    "- `Yield_Tonnes_per_ha`: Yield in tonnes per hectare (floating-point number)\n",
    "- `notes`: Additional notes (string)"
   ]
  },
  {
   "cell_type": "markdown",
   "id": "40a3e9b6",
   "metadata": {},
   "source": [
    "## 1. The `notes` column\n",
    "- Let's try and explore the notes column:"
   ]
  },
  {
   "cell_type": "code",
   "execution_count": 9,
   "id": "8fe78605",
   "metadata": {},
   "outputs": [
    {
     "data": {
      "text/plain": [
       "(array([nan, 'FAO country level data', 'INSEE code 11', 'INSEE code 21',\n",
       "        'INSEE code 22', 'INSEE code 23', 'INSEE code 24', 'INSEE code 25',\n",
       "        'INSEE code 26', 'INSEE code 31', 'INSEE code 41', 'INSEE code 42',\n",
       "        'INSEE code 43', 'INSEE code 52', 'INSEE code 53', 'INSEE code 54',\n",
       "        'INSEE code 72', 'INSEE code 73', 'INSEE code 74', 'INSEE code 82',\n",
       "        'INSEE code 83', 'INSEE code 91', 'INSEE code 93', 'INSEE code 94',\n",
       "        'Hebei, Beijing, Tianjin, Liaoning, Jilin, Heilongjiang, Nei Mongol',\n",
       "        'Sichuan, Xizang, Chongqing'], dtype=object),\n",
       "                     admin1          notes\n",
       " 7345              Auvergne  INSEE code 83\n",
       " 6706           Rhône-Alpes  INSEE code 82\n",
       " 6892        Lower Normandy  INSEE code 25\n",
       " 5988        Upper Normandy  INSEE code 23\n",
       " 6510  Languedoc-Roussillon  INSEE code 91)"
      ]
     },
     "execution_count": 9,
     "metadata": {},
     "output_type": "execute_result"
    }
   ],
   "source": [
    "# Explore unique values in the 'notes' column\n",
    "unique_notes = data['notes'].unique()\n",
    "\n",
    "# Sample entries where 'notes' column is populated\n",
    "sample_notes_entries = data[data['notes'].notnull()].sample(5)\n",
    "\n",
    "unique_notes, sample_notes_entries[['admin1','notes']]"
   ]
  },
  {
   "cell_type": "markdown",
   "id": "52eac3bd",
   "metadata": {},
   "source": [
    "The `notes` column appears to contain specific codes and regional groupings. Here's a summary:\n",
    "\n",
    "**Unique values in `notes`**:\n",
    "\n",
    "- Several entries start with \"INSEE code\", followed by a two-digit number. INSEE codes are specific to France and are used to identify administrative regions.\n",
    "- Some entries list multiple regions, such as \"Hebei, Beijing, Tianjin, Liaoning, Jilin, Heilongjiang, Nei Mongol\" and \"Sichuan, Xizang, Chongqing\".\n",
    "\n",
    "**Sample entries where `notes` column is populated**:\n",
    "\n",
    "- For instance, the region \"Pays de la Loire\" is associated with the \"INSEE code 52\".\n",
    "- The region \"Brittany\" corresponds to \"INSEE code 53\".\n",
    "- The region \"Limousin\" has the \"INSEE code 74\".\n",
    "\n",
    "### Filtering and Cleaning Data for China"
   ]
  },
  {
   "cell_type": "code",
   "execution_count": 10,
   "id": "68c4da66",
   "metadata": {},
   "outputs": [],
   "source": [
    "# Filter out rows related to China\n",
    "china_data = data[data['country'] == 'China']\n",
    "\n",
    "# For rows where 'notes' is not null, copy the content from 'notes' to 'admin1'\n",
    "china_data.loc[china_data['notes'].notnull(), 'admin1'] = china_data['notes']\n",
    "\n",
    "# Update the main dataframe with the changes\n",
    "data.update(china_data)\n",
    "\n",
    "\n",
    "data = data.drop(columns='notes')"
   ]
  },
  {
   "cell_type": "markdown",
   "id": "9df583c5",
   "metadata": {},
   "source": [
    " - For the Chinese data, it seems that more specific or accurate regional information is stored in the 'notes' column. Therefore, the code copies the content of 'notes' into 'admin1' for each row where 'notes' is not null. This step is done to enhance the dataset with better regional details, which might be critical for any analysis that requires more granular regional segmentation.\n",
    " - Once the relevant information from 'notes' has been incorporated into 'admin1', the 'notes' column is removed, because it is no longer needed. This might be a way to tidy up the dataset by removing redundant or unnecessary information, which simplifies the dataset and may make subsequent analyses more straightforward."
   ]
  },
  {
   "cell_type": "markdown",
   "id": "0c4772e4",
   "metadata": {},
   "source": [
    "## 2. The `admin1` column:\n",
    "\n",
    "**`admin1` (2,612 missing entries)** :\n",
    "\n",
    "- This column represents subdivisions within a country or detailed regional information. The absence of values here could mean a variety of things. It's possible the data for those subdivisions wasn't available, or it might have been aggregated at the country level.\n",
    "\n",
    "- **Solution**: For categorical variables like regions, it might be appropriate to use \"Special value imputation\" and assign a value like \"Unknown\" or \"Not Specified\" to these missing entries."
   ]
  },
  {
   "cell_type": "code",
   "execution_count": 11,
   "id": "d8a27b5b",
   "metadata": {},
   "outputs": [
    {
     "data": {
      "text/plain": [
       "0"
      ]
     },
     "execution_count": 11,
     "metadata": {},
     "output_type": "execute_result"
    }
   ],
   "source": [
    "# # Define a function to concatenate \"Unknown\" with the country name if \"admin1\" is missing\n",
    "def impute_admin1(row):\n",
    "    if pd.isnull(row['admin1']):\n",
    "        return \"Unknown \" + row['country']\n",
    "    else:\n",
    "        return row['admin1']\n",
    "\n",
    "# Apply the function to each row in the DataFrame\n",
    "data['admin1'] = data.apply(impute_admin1, axis=1)\n",
    "\n",
    "# Verify if there are still any missing values in 'admin1'\n",
    "missing_admin1_after = data['admin1'].isnull().sum()\n",
    "missing_admin1_after"
   ]
  },
  {
   "cell_type": "markdown",
   "id": "f819c3ac",
   "metadata": {},
   "source": [
    "After applying the function, we verified that there are no longer any missing values in the admin1 column; the count of missing values is now 0. This means the imputation was successful, and the `admin1` column now contains complete information for each row.​"
   ]
  },
  {
   "cell_type": "markdown",
   "id": "ee29829a",
   "metadata": {},
   "source": [
    "## 3. The `year` column:\n",
    "For the sake of consistency with the maize dataset , we will only be working with data from 1930 onward."
   ]
  },
  {
   "cell_type": "code",
   "execution_count": 12,
   "id": "2ff4b211",
   "metadata": {},
   "outputs": [],
   "source": [
    "# Filter the dataset for years from 1930 to 2017\n",
    "\n",
    "data_1930_onward = data[\n",
    "    (data['Harvest_year'] >= 1930) & \n",
    "    (data['Harvest_year'] <= 2017)\n",
    "\n",
    "] "
   ]
  },
  {
   "cell_type": "markdown",
   "id": "5224a5fe",
   "metadata": {},
   "source": [
    "- Some regions are missing some recorded years , we will add them and fill them ith the value of 0 "
   ]
  },
  {
   "cell_type": "code",
   "execution_count": 13,
   "id": "9516c5e8",
   "metadata": {},
   "outputs": [
    {
     "data": {
      "text/html": [
       "<div>\n",
       "<style scoped>\n",
       "    .dataframe tbody tr th:only-of-type {\n",
       "        vertical-align: middle;\n",
       "    }\n",
       "\n",
       "    .dataframe tbody tr th {\n",
       "        vertical-align: top;\n",
       "    }\n",
       "\n",
       "    .dataframe thead th {\n",
       "        text-align: right;\n",
       "    }\n",
       "</style>\n",
       "<table border=\"1\" class=\"dataframe\">\n",
       "  <thead>\n",
       "    <tr style=\"text-align: right;\">\n",
       "      <th></th>\n",
       "      <th>country</th>\n",
       "      <th>admin1</th>\n",
       "      <th>crop</th>\n",
       "      <th>Harvest_year</th>\n",
       "      <th>hectares (ha)</th>\n",
       "      <th>production (tonnes)</th>\n",
       "      <th>yield(tonnes/ha)</th>\n",
       "    </tr>\n",
       "  </thead>\n",
       "  <tbody>\n",
       "    <tr>\n",
       "      <th>0</th>\n",
       "      <td>Argentina</td>\n",
       "      <td>Unknown Argentina</td>\n",
       "      <td>wheat</td>\n",
       "      <td>1930</td>\n",
       "      <td>6436023.0</td>\n",
       "      <td>4424628.0</td>\n",
       "      <td>0.687</td>\n",
       "    </tr>\n",
       "    <tr>\n",
       "      <th>1</th>\n",
       "      <td>Argentina</td>\n",
       "      <td>Unknown Argentina</td>\n",
       "      <td>wheat</td>\n",
       "      <td>1931</td>\n",
       "      <td>7902300.0</td>\n",
       "      <td>6321836.0</td>\n",
       "      <td>0.800</td>\n",
       "    </tr>\n",
       "    <tr>\n",
       "      <th>2</th>\n",
       "      <td>Argentina</td>\n",
       "      <td>Unknown Argentina</td>\n",
       "      <td>wheat</td>\n",
       "      <td>1932</td>\n",
       "      <td>6486300.0</td>\n",
       "      <td>5979200.0</td>\n",
       "      <td>0.922</td>\n",
       "    </tr>\n",
       "    <tr>\n",
       "      <th>3</th>\n",
       "      <td>Argentina</td>\n",
       "      <td>Unknown Argentina</td>\n",
       "      <td>wheat</td>\n",
       "      <td>1933</td>\n",
       "      <td>7200350.0</td>\n",
       "      <td>6556000.0</td>\n",
       "      <td>0.911</td>\n",
       "    </tr>\n",
       "    <tr>\n",
       "      <th>4</th>\n",
       "      <td>Argentina</td>\n",
       "      <td>Unknown Argentina</td>\n",
       "      <td>wheat</td>\n",
       "      <td>1934</td>\n",
       "      <td>7301300.0</td>\n",
       "      <td>7787000.0</td>\n",
       "      <td>1.067</td>\n",
       "    </tr>\n",
       "  </tbody>\n",
       "</table>\n",
       "</div>"
      ],
      "text/plain": [
       "     country             admin1   crop  Harvest_year  hectares (ha)  \\\n",
       "0  Argentina  Unknown Argentina  wheat          1930      6436023.0   \n",
       "1  Argentina  Unknown Argentina  wheat          1931      7902300.0   \n",
       "2  Argentina  Unknown Argentina  wheat          1932      6486300.0   \n",
       "3  Argentina  Unknown Argentina  wheat          1933      7200350.0   \n",
       "4  Argentina  Unknown Argentina  wheat          1934      7301300.0   \n",
       "\n",
       "   production (tonnes)  yield(tonnes/ha)  \n",
       "0            4424628.0             0.687  \n",
       "1            6321836.0             0.800  \n",
       "2            5979200.0             0.922  \n",
       "3            6556000.0             0.911  \n",
       "4            7787000.0             1.067  "
      ]
     },
     "execution_count": 13,
     "metadata": {},
     "output_type": "execute_result"
    }
   ],
   "source": [
    "# Filter the data for years 1930 onward\n",
    "data_1930_onward_filtered = data_1930_onward[data_1930_onward['Harvest_year'] >= 1930]\n",
    "\n",
    "# Group by 'country', 'admin1', and 'crop' to get unique combinations\n",
    "country_region_crop_combinations = (\n",
    "    data_1930_onward_filtered.groupby(['country', 'admin1', 'crop']).size().reset_index()[['country', 'admin1', 'crop']]\n",
    ")\n",
    "\n",
    "# Create a DataFrame for the complete range of years from 1930 onwards for each country-region-crop combination\n",
    "years = list(range(1930, data_1930_onward_filtered['Harvest_year'].max() + 1))\n",
    "complete_data = pd.DataFrame(\n",
    "    [(country, region, crop, year) for country, region, crop in zip(\n",
    "        country_region_crop_combinations['country'], \n",
    "        country_region_crop_combinations['admin1'], \n",
    "        country_region_crop_combinations['crop']) \n",
    "     for year in years], \n",
    "    columns=['country', 'admin1', 'crop', 'Harvest_year']\n",
    ")\n",
    "\n",
    "# Merge the existing data with the complete data to identify missing entries\n",
    "merged_data = complete_data.merge(data_1930_onward_filtered, on=['country', 'admin1', 'crop', 'Harvest_year'], how='left')\n",
    "\n",
    "# Fill missing values with zeros\n",
    "merged_data_filled = merged_data.fillna(0)\n",
    "\n",
    "# Check the data to ensure every country-region-crop now starts from 1930\n",
    "data = merged_data_filled.sort_values(by=['country', 'admin1', 'crop', 'Harvest_year'])\n",
    "data.head()\n"
   ]
  },
  {
   "cell_type": "markdown",
   "id": "7e039392",
   "metadata": {},
   "source": [
    "The dataset has now been expanded to include a record for every country-region-year combination from 1930 to 2017. For the newly added records where data was missing, the `Production_Tonnes`, `Yield_Tonnes_per_ha`, and `Harvested_Area_ha` columns have been filled with zeros.\n",
    "\n",
    "This process ensures that if a particular region did not have recorded data for a certain year, it now has a record for that year with zero values in these key columns, which may be important for analyses that require complete time series data."
   ]
  },
  {
   "cell_type": "markdown",
   "id": "ab734226",
   "metadata": {},
   "source": [
    "## 4. Checking Discrepancies in Wheat Production Data\n",
    "\n",
    "In this step, we are continuing our efforts to ensure the consistency and accuracy of wheat production data. Specifically, we have observed cases where certain countries do not cultivate 'wheat' but rather focus on 'winter wheat' and/or 'spring wheat.' Our objective is to investigate if there is a meaningful ***correlation*** or ***pattern*** between these different types of wheat crops in such regions. This analysis aims to provide insights into the preferences and agricultural practices related to wheat cultivation in these areas, where the traditional 'wheat' crop is absent.\n"
   ]
  },
  {
   "cell_type": "code",
   "execution_count": 14,
   "id": "493277db",
   "metadata": {},
   "outputs": [
    {
     "data": {
      "text/html": [
       "<div>\n",
       "<style scoped>\n",
       "    .dataframe tbody tr th:only-of-type {\n",
       "        vertical-align: middle;\n",
       "    }\n",
       "\n",
       "    .dataframe tbody tr th {\n",
       "        vertical-align: top;\n",
       "    }\n",
       "\n",
       "    .dataframe thead th {\n",
       "        text-align: right;\n",
       "    }\n",
       "</style>\n",
       "<table border=\"1\" class=\"dataframe\">\n",
       "  <thead>\n",
       "    <tr style=\"text-align: right;\">\n",
       "      <th>crop</th>\n",
       "      <th>country</th>\n",
       "      <th>admin1</th>\n",
       "      <th>Harvest_year</th>\n",
       "      <th>spring wheat</th>\n",
       "      <th>wheat</th>\n",
       "      <th>winter wheat</th>\n",
       "    </tr>\n",
       "  </thead>\n",
       "  <tbody>\n",
       "    <tr>\n",
       "      <th>6427</th>\n",
       "      <td>Netherlands</td>\n",
       "      <td>Unknown Netherlands</td>\n",
       "      <td>1933</td>\n",
       "      <td>59000.000000</td>\n",
       "      <td>0.0</td>\n",
       "      <td>3.580000e+05</td>\n",
       "    </tr>\n",
       "    <tr>\n",
       "      <th>6428</th>\n",
       "      <td>Netherlands</td>\n",
       "      <td>Unknown Netherlands</td>\n",
       "      <td>1934</td>\n",
       "      <td>71000.000000</td>\n",
       "      <td>0.0</td>\n",
       "      <td>4.240000e+05</td>\n",
       "    </tr>\n",
       "    <tr>\n",
       "      <th>6429</th>\n",
       "      <td>Netherlands</td>\n",
       "      <td>Unknown Netherlands</td>\n",
       "      <td>1935</td>\n",
       "      <td>58000.000000</td>\n",
       "      <td>0.0</td>\n",
       "      <td>3.980000e+05</td>\n",
       "    </tr>\n",
       "    <tr>\n",
       "      <th>6430</th>\n",
       "      <td>Netherlands</td>\n",
       "      <td>Unknown Netherlands</td>\n",
       "      <td>1936</td>\n",
       "      <td>50000.000000</td>\n",
       "      <td>0.0</td>\n",
       "      <td>3.690000e+05</td>\n",
       "    </tr>\n",
       "    <tr>\n",
       "      <th>6431</th>\n",
       "      <td>Netherlands</td>\n",
       "      <td>Unknown Netherlands</td>\n",
       "      <td>1937</td>\n",
       "      <td>42000.000000</td>\n",
       "      <td>0.0</td>\n",
       "      <td>3.010000e+05</td>\n",
       "    </tr>\n",
       "    <tr>\n",
       "      <th>...</th>\n",
       "      <td>...</td>\n",
       "      <td>...</td>\n",
       "      <td>...</td>\n",
       "      <td>...</td>\n",
       "      <td>...</td>\n",
       "      <td>...</td>\n",
       "    </tr>\n",
       "    <tr>\n",
       "      <th>8356</th>\n",
       "      <td>Sweden</td>\n",
       "      <td>Unknown Sweden</td>\n",
       "      <td>2014</td>\n",
       "      <td>335600.000000</td>\n",
       "      <td>0.0</td>\n",
       "      <td>2.750800e+06</td>\n",
       "    </tr>\n",
       "    <tr>\n",
       "      <th>8357</th>\n",
       "      <td>Sweden</td>\n",
       "      <td>Unknown Sweden</td>\n",
       "      <td>2015</td>\n",
       "      <td>315600.000000</td>\n",
       "      <td>0.0</td>\n",
       "      <td>2.984800e+06</td>\n",
       "    </tr>\n",
       "    <tr>\n",
       "      <th>8358</th>\n",
       "      <td>Sweden</td>\n",
       "      <td>Unknown Sweden</td>\n",
       "      <td>2016</td>\n",
       "      <td>339500.000000</td>\n",
       "      <td>0.0</td>\n",
       "      <td>2.502100e+06</td>\n",
       "    </tr>\n",
       "    <tr>\n",
       "      <th>8359</th>\n",
       "      <td>Sweden</td>\n",
       "      <td>Unknown Sweden</td>\n",
       "      <td>2017</td>\n",
       "      <td>298600.000000</td>\n",
       "      <td>0.0</td>\n",
       "      <td>3.000000e+06</td>\n",
       "    </tr>\n",
       "    <tr>\n",
       "      <th>11351</th>\n",
       "      <td>United States</td>\n",
       "      <td>OTHER STATES</td>\n",
       "      <td>2017</td>\n",
       "      <td>40333.115611</td>\n",
       "      <td>0.0</td>\n",
       "      <td>1.561017e+06</td>\n",
       "    </tr>\n",
       "  </tbody>\n",
       "</table>\n",
       "<p>170 rows × 6 columns</p>\n",
       "</div>"
      ],
      "text/plain": [
       "crop         country               admin1  Harvest_year   spring wheat  wheat  \\\n",
       "6427     Netherlands  Unknown Netherlands          1933   59000.000000    0.0   \n",
       "6428     Netherlands  Unknown Netherlands          1934   71000.000000    0.0   \n",
       "6429     Netherlands  Unknown Netherlands          1935   58000.000000    0.0   \n",
       "6430     Netherlands  Unknown Netherlands          1936   50000.000000    0.0   \n",
       "6431     Netherlands  Unknown Netherlands          1937   42000.000000    0.0   \n",
       "...              ...                  ...           ...            ...    ...   \n",
       "8356          Sweden       Unknown Sweden          2014  335600.000000    0.0   \n",
       "8357          Sweden       Unknown Sweden          2015  315600.000000    0.0   \n",
       "8358          Sweden       Unknown Sweden          2016  339500.000000    0.0   \n",
       "8359          Sweden       Unknown Sweden          2017  298600.000000    0.0   \n",
       "11351  United States         OTHER STATES          2017   40333.115611    0.0   \n",
       "\n",
       "crop   winter wheat  \n",
       "6427   3.580000e+05  \n",
       "6428   4.240000e+05  \n",
       "6429   3.980000e+05  \n",
       "6430   3.690000e+05  \n",
       "6431   3.010000e+05  \n",
       "...             ...  \n",
       "8356   2.750800e+06  \n",
       "8357   2.984800e+06  \n",
       "8358   2.502100e+06  \n",
       "8359   3.000000e+06  \n",
       "11351  1.561017e+06  \n",
       "\n",
       "[170 rows x 6 columns]"
      ]
     },
     "execution_count": 14,
     "metadata": {},
     "output_type": "execute_result"
    }
   ],
   "source": [
    "# To perform this check, we need to ensure that we are looking for records within the same region, country, and year.\n",
    "# We will group the data by these attributes and then check if there are any such discrepancies.\n",
    "\n",
    "# First, create a DataFrame for all wheat-related crops and their production values, grouped by country, admin1, and Harvest_year\n",
    "wheat_related = data[\n",
    "    data['crop'].isin(['wheat', 'winter wheat', 'spring wheat'])\n",
    "].groupby(['country', 'admin1', 'Harvest_year', 'crop'])['production (tonnes)'].sum().reset_index()\n",
    "\n",
    "# Now we pivot this DataFrame to have separate columns for 'wheat', 'winter wheat', and 'spring wheat' production\n",
    "wheat_pivot = wheat_related.pivot_table(\n",
    "    values='production (tonnes)',\n",
    "    index=['country', 'admin1', 'Harvest_year'],\n",
    "    columns='crop',\n",
    "    aggfunc='first'\n",
    ").reset_index()\n",
    "\n",
    "# Fill NaN values with zero for comparison\n",
    "wheat_pivot.fillna(0, inplace=True)\n",
    "\n",
    "# Now we can check for rows where 'wheat' production is zero and either 'winter wheat' or 'spring wheat' production is non-zero\n",
    "discrepancies = wheat_pivot[\n",
    "    (wheat_pivot['wheat'] == 0) &\n",
    "    ((wheat_pivot['winter wheat'] > 0) | (wheat_pivot['spring wheat'] > 0))\n",
    "]\n",
    "\n",
    "discrepancies\n"
   ]
  },
  {
   "cell_type": "markdown",
   "id": "d87ae221",
   "metadata": {},
   "source": [
    "\n",
    "We have found 170 records where the crop \"wheat\" has a zero value, but the crops \"winter wheat\" or \"spring wheat\" have non-zero values for the same country, region, and year. These discrepancies suggest that there may have been an issue with data entry or classification within the dataset.\n",
    "\n",
    "Here are some examples from the discrepancies:\n",
    "\n",
    "- For the Netherlands, across multiple years (1933 to 1937), \"spring wheat\" has production values recorded while \"wheat\" is listed as having zero production.\n",
    "- For Sweden, from 2014 to 2017, \"spring wheat\" and \"winter wheat\" have substantial production values, yet \"wheat\" is reported as zero.\n",
    "- In the United States, for the region \"OTHER STATES\" in 2017, \"spring wheat\" and \"winter wheat\" have production, but \"wheat\" does not.\n",
    "\n"
   ]
  },
  {
   "cell_type": "markdown",
   "id": "cd12b1d7",
   "metadata": {},
   "source": [
    "## 5. Adding missing rows"
   ]
  },
  {
   "cell_type": "code",
   "execution_count": 15,
   "id": "4880e80f",
   "metadata": {},
   "outputs": [],
   "source": [
    "# Filter out the necessary rows where crop is either \"spring wheat\" or \"winter wheat\"\n",
    "wheat_types = ['spring wheat', 'winter wheat']\n",
    "filtered_wheat_data = data[data['crop'].isin(wheat_types)]\n",
    "\n",
    "# Identify the unique combinations of year, country, and admin1\n",
    "unique_combinations = filtered_wheat_data[['Harvest_year', 'country', 'admin1']].drop_duplicates()\n",
    "\n",
    "# Initialize a list to hold any new rows that need to be added\n",
    "new_rows = []\n",
    "\n",
    "# Check if a corresponding \"wheat\" row exists for each unique combination, if not, add a new row\n",
    "for index, row in unique_combinations.iterrows():\n",
    "    # Check if there is an existing row with crop as \"wheat\"\n",
    "    exists = data[(data['Harvest_year'] == row['Harvest_year']) &\n",
    "                        (data['country'] == row['country']) &\n",
    "                        (data['admin1'] == row['admin1']) &\n",
    "                        (data['crop'] == 'wheat')].any().any()\n",
    "    \n",
    "    # If not exists, prepare a new row to be added\n",
    "    if not exists:\n",
    "        new_row = {\n",
    "            'country': row['country'],\n",
    "            'admin1': row['admin1'],\n",
    "            'Harvest_year': row['Harvest_year'],\n",
    "            'crop': 'wheat',\n",
    "            'hectares (ha)': 0,\n",
    "            'production (tonnes)': 0,\n",
    "            'yield(tonnes/ha)': 0\n",
    "        }\n",
    "        new_rows.append(new_row)\n",
    "\n",
    "# Create a DataFrame from the new rows\n",
    "new_wheat_df = pd.DataFrame(new_rows)\n",
    "\n",
    "# Append the new rows to the original data, if there are any\n",
    "if not new_wheat_df.empty:\n",
    "    updated_wheat_data = pd.concat([data, new_wheat_df], ignore_index=True)\n",
    "else:\n",
    "    updated_wheat_data = data\n"
   ]
  },
  {
   "cell_type": "markdown",
   "id": "96681dfe",
   "metadata": {},
   "source": [
    "These new rows ensure that our dataset now has a complete record for each country-region combination for every year between 1930 and 2017, including a record for \"wheat\" where previously only \"spring wheat\" or \"winter wheat\" might have been recorded."
   ]
  },
  {
   "cell_type": "markdown",
   "id": "015e5e77",
   "metadata": {},
   "source": [
    "### 5.1 Correcting missing values"
   ]
  },
  {
   "cell_type": "markdown",
   "id": "32de7ed4",
   "metadata": {},
   "source": [
    "#### 5.1.1 Correcting production values"
   ]
  },
  {
   "cell_type": "markdown",
   "id": "77c341b4",
   "metadata": {},
   "source": [
    "For each row where crop is \"wheat\" and Production_Tonnes is 0, we will check if there is a corresponding row for the same year, region, and country where crop is \"spring wheat\" or \"winter wheat\" and Production_Tonnes is not 0.\n",
    "If such a row exists, we will add the Production_Tonnes of \"spring wheat\" or \"winter wheat\" to the Production_Tonnes of \"wheat\" for that particular combination of year, region, and country."
   ]
  },
  {
   "cell_type": "code",
   "execution_count": 16,
   "id": "043b335b",
   "metadata": {},
   "outputs": [],
   "source": [
    "# Correcting 'wheat' production values in the dataset where 'wheat' is zero and 'winter wheat' or 'spring wheat' have non-zero values.\n",
    "\n",
    "# Step 1: Identify the rows where 'wheat' is zero but 'winter wheat' or 'spring wheat' have non-zero values.\n",
    "# Group by 'country', 'admin1', and 'Harvest_year' and pivot to get separate columns for each crop type.\n",
    "wheat_grouped = updated_wheat_data.groupby(['country', 'admin1', 'Harvest_year', 'crop'])['production (tonnes)'].sum().unstack().fillna(0)\n",
    "\n",
    "# Find rows where 'wheat' is zero and ('winter wheat' or 'spring wheat') is non-zero\n",
    "discrepancies = wheat_grouped[(wheat_grouped['wheat'] == 0) & \n",
    "                              ((wheat_grouped['winter wheat'] > 0) | \n",
    "                               (wheat_grouped['spring wheat'] > 0))]\n",
    "\n",
    "# Step 2: Update these discrepancies by adding 'winter wheat' and 'spring wheat' production values.\n",
    "wheat_grouped.loc[discrepancies.index, 'wheat'] = (wheat_grouped.loc[discrepancies.index, 'winter wheat'] + \n",
    "                                                    wheat_grouped.loc[discrepancies.index, 'spring wheat'])\n",
    "\n",
    "# Step 3: Now we need to merge this corrected 'wheat' production back into the original dataframe.\n",
    "# Reset index to turn multi-index into columns\n",
    "wheat_grouped = wheat_grouped.reset_index()\n",
    "\n",
    "# Melt the dataframe to turn it back into a long format\n",
    "corrected_wheat_long = pd.melt(wheat_grouped, \n",
    "                               id_vars=['country', 'admin1', 'Harvest_year'], \n",
    "                               value_vars=['wheat', 'winter wheat', 'spring wheat'],\n",
    "                               var_name='crop', \n",
    "                               value_name='production (tonnes)')\n",
    "\n",
    "# Step 4: Merge the corrected 'wheat' production values back into the original dataframe\n",
    "wheat_df_corrected = updated_wheat_data.drop('production (tonnes)', axis=1).merge(\n",
    "    corrected_wheat_long,\n",
    "    on=['country', 'admin1', 'Harvest_year', 'crop'],\n",
    "    how='left'\n",
    ")\n",
    "\n",
    "# Return the updated DataFrame\n",
    "wheat_df_corrected.drop_duplicates().sort_values(by=['country', 'admin1', 'Harvest_year', 'crop']).reset_index(drop=True)\n",
    "updated_wheat_data = wheat_df_corrected\n"
   ]
  },
  {
   "cell_type": "markdown",
   "id": "22d24683",
   "metadata": {},
   "source": [
    "#### 5.1.1 Correcting hectare values"
   ]
  },
  {
   "cell_type": "code",
   "execution_count": 17,
   "id": "ec59bc45",
   "metadata": {},
   "outputs": [],
   "source": [
    "# Step 1: Group by 'country', 'admin1', and 'Harvest_year' and pivot to get separate columns for each crop type for hectares.\n",
    "wheat_grouped = updated_wheat_data.groupby(['country', 'admin1', 'Harvest_year', 'crop'])['hectares (ha)'].sum().unstack().fillna(0)\n",
    "\n",
    "# Find rows where 'wheat' is zero and ('winter wheat' or 'spring wheat') is non-zero\n",
    "discrepancies = wheat_grouped[(wheat_grouped['wheat'] == 0) & \n",
    "                              ((wheat_grouped['winter wheat'] > 0) | \n",
    "                               (wheat_grouped['spring wheat'] > 0))]\n",
    "\n",
    "# Step 2: Update these discrepancies by adding 'winter wheat' and 'spring wheat' hectares values.\n",
    "wheat_grouped.loc[discrepancies.index, 'wheat'] = (wheat_grouped.loc[discrepancies.index, 'winter wheat'] + \n",
    "                                                    wheat_grouped.loc[discrepancies.index, 'spring wheat'])\n",
    "\n",
    "# Step 3: Reset index to turn the multi-index into columns and melt the dataframe back into a long format\n",
    "wheat_grouped = wheat_grouped.reset_index()\n",
    "corrected_wheat_long = pd.melt(wheat_grouped, \n",
    "                               id_vars=['country', 'admin1', 'Harvest_year'], \n",
    "                               value_vars=['wheat', 'winter wheat', 'spring wheat'],\n",
    "                               var_name='crop', \n",
    "                               value_name='hectares (ha)')\n",
    "\n",
    "# Step 4: Merge the corrected 'wheat' hectares back into the original dataframe\n",
    "wheat_df_corrected = updated_wheat_data.drop('hectares (ha)', axis=1).merge(\n",
    "    corrected_wheat_long,\n",
    "    on=['country', 'admin1', 'Harvest_year', 'crop'],\n",
    "    how='left'\n",
    ")\n",
    "\n",
    "# Remove duplicates if any and reset the index\n",
    "wheat_df_corrected = wheat_df_corrected.drop_duplicates().sort_values(by=['country', 'admin1', 'Harvest_year', 'crop']).reset_index(drop=True)\n",
    "\n",
    "# Update the original DataFrame with the corrected values\n",
    "updated_wheat_data = wheat_df_corrected\n",
    "\n",
    "# Now, updated_wheat_data should have the corrected hectares values\n"
   ]
  },
  {
   "cell_type": "markdown",
   "id": "1604772f",
   "metadata": {},
   "source": [
    "#### 5.1.3 Dropping redundant rows"
   ]
  },
  {
   "cell_type": "code",
   "execution_count": 18,
   "id": "e11ca3f9",
   "metadata": {},
   "outputs": [],
   "source": [
    "# Drop rows where 'crop' is 'spring wheat' or 'winter wheat'\n",
    "data_without_specific_wheats = updated_wheat_data[~updated_wheat_data['crop'].isin(['spring wheat', 'winter wheat'])]\n",
    "\n",
    "data_without_specific_wheats.head()\n",
    "updated_wheat_data = data_without_specific_wheats"
   ]
  },
  {
   "cell_type": "markdown",
   "id": "dba6cd2b",
   "metadata": {},
   "source": [
    "## 6. Addressing Different Types of Missing Values"
   ]
  },
  {
   "cell_type": "markdown",
   "id": "5dd23376",
   "metadata": {},
   "source": [
    "To correct the zero values in the dataset:\n",
    "\n",
    "- For rows where both hectares and production are available but yield is zero, we will replace the zero yield with the calculated value: production divided by hectares.\n",
    "- For rows where both yield and hectares are available but production is zero, we will replace the zero production with the calculated value: yield multiplied by hectares.\n",
    "- For rows where both production and yield are available but hectares is zero, we will replace the zero hectares with the calculated value: production divided by yield.\n",
    "\n",
    "Let's apply these rules only to rows where the necessary values to perform the calculations are not zero, to avoid incorrect inferences from zero values that are legitimately zero (such as no production or no hectares planted)"
   ]
  },
  {
   "cell_type": "code",
   "execution_count": 19,
   "id": "a8e58a10",
   "metadata": {},
   "outputs": [
    {
     "data": {
      "text/plain": [
       "{'hectares_replaced': 0, 'production_replaced': 317, 'yield_replaced': 118}"
      ]
     },
     "execution_count": 19,
     "metadata": {},
     "output_type": "execute_result"
    }
   ],
   "source": [
    "# Replace zero values in the dataset with calculated values where appropriate\n",
    "def replace_zero_values(row):\n",
    "    if row['hectares (ha)'] != 0 and row['production (tonnes)'] != 0 and row['yield(tonnes/ha)'] == 0:\n",
    "        row['yield(tonnes/ha)'] = row['production (tonnes)'] / row['hectares (ha)']\n",
    "    if row['yield(tonnes/ha)'] != 0 and row['hectares (ha)'] != 0 and row['production (tonnes)'] == 0:\n",
    "        row['production (tonnes)'] = row['yield(tonnes/ha)'] * row['hectares (ha)']\n",
    "    if row['production (tonnes)'] != 0 and row['yield(tonnes/ha)'] != 0 and row['hectares (ha)'] == 0:\n",
    "        row['hectares (ha)'] = row['production (tonnes)'] / row['yield(tonnes/ha)']\n",
    "    return row\n",
    "\n",
    "# Apply the function to replace zero values\n",
    "replaced_data = updated_wheat_data.apply(replace_zero_values, axis=1)\n",
    "\n",
    "# Calculate the number of zero values replaced for each column\n",
    "replaced_counts = {\n",
    "    'hectares_replaced': (updated_wheat_data['hectares (ha)'] == 0) & (replaced_data['hectares (ha)'] != 0),\n",
    "    'production_replaced': (updated_wheat_data['production (tonnes)'] == 0) & (replaced_data['production (tonnes)'] != 0),\n",
    "    'yield_replaced': (updated_wheat_data['yield(tonnes/ha)'] == 0) & (replaced_data['yield(tonnes/ha)'] != 0)\n",
    "}\n",
    "\n",
    "replaced_counts_sum = {k: v.sum() for k, v in replaced_counts.items()}\n",
    "replaced_counts_sum"
   ]
  },
  {
   "cell_type": "code",
   "execution_count": 20,
   "id": "c0e6a607",
   "metadata": {},
   "outputs": [],
   "source": [
    "updated_wheat_data = replaced_data"
   ]
  },
  {
   "cell_type": "markdown",
   "id": "75dff160",
   "metadata": {},
   "source": [
    "### 6.1 Visualizing Regions with Consistent Zero Data\n",
    "\n",
    "In this part of our data analysis, we've conducted an evaluation to determine the prevalence of complete zero data records (zero production, zero hectares, and zero yield) for specific regions. The visualization provides insights into regions with substantial data gaps, which can impact the accuracy and reliability of our analysis."
   ]
  },
  {
   "cell_type": "code",
   "execution_count": 21,
   "id": "80092ee4",
   "metadata": {},
   "outputs": [
    {
     "data": {
      "image/png": "[encoded data removed]",
      "text/plain": [
       "<Figure size 1000x800 with 1 Axes>"
      ]
     },
     "metadata": {},
     "output_type": "display_data"
    }
   ],
   "source": [
    "# Count the number of times a specific region has 0 production, 0 hectares, and 0 yield\n",
    "zero_all_counts = updated_wheat_data[(updated_wheat_data['production (tonnes)'] == 0) & \n",
    "                                (updated_wheat_data['hectares (ha)'] == 0) & \n",
    "                                (updated_wheat_data['yield(tonnes/ha)'] == 0)].groupby(['country', 'admin1']).size().reset_index(name='count')\n",
    "\n",
    "# Sort the counts and get the top regions with the most zeros\n",
    "zero_all_counts_sorted = zero_all_counts.sort_values(by='count', ascending=False)\n",
    "\n",
    "# Create the visualization\n",
    "plt.figure(figsize=(10, 8))\n",
    "sns.barplot(x='count', y='admin1', data=zero_all_counts_sorted.head(25), hue='country', dodge=False)\n",
    "plt.title('Top Regions with Zero Production, Hectares, and Yield')\n",
    "plt.xlabel('Count of Zero Production, Hectares, and Yield')\n",
    "plt.ylabel('Region')\n",
    "plt.legend(title='Country', bbox_to_anchor=(1.05, 1), loc='upper left')\n",
    "plt.tight_layout()\n",
    "\n",
    "# Show the plot\n",
    "plt.show()"
   ]
  },
  {
   "cell_type": "markdown",
   "id": "a75a8334",
   "metadata": {},
   "source": [
    "\n",
    "**Conclusion and Next Steps:**\n",
    "\n",
    "Based on the visualization, we have identified regions with consistent zero data entries, indicating potential data quality issues. The next steps may involve a decision to exclude these regions from further analysis to maintain the accuracy and reliability of our findings.\n",
    "\n",
    "This visual assessment provides valuable insights for data quality improvement and analysis refinement.\n",
    "\n",
    "### 6.2 Filtering Regions with Insufficient Data Reporting\n",
    "\n"
   ]
  },
  {
   "cell_type": "code",
   "execution_count": 22,
   "id": "ca0d8f78",
   "metadata": {},
   "outputs": [
    {
     "data": {
      "text/html": [
       "<div>\n",
       "<style scoped>\n",
       "    .dataframe tbody tr th:only-of-type {\n",
       "        vertical-align: middle;\n",
       "    }\n",
       "\n",
       "    .dataframe tbody tr th {\n",
       "        vertical-align: top;\n",
       "    }\n",
       "\n",
       "    .dataframe thead th {\n",
       "        text-align: right;\n",
       "    }\n",
       "</style>\n",
       "<table border=\"1\" class=\"dataframe\">\n",
       "  <thead>\n",
       "    <tr style=\"text-align: right;\">\n",
       "      <th></th>\n",
       "      <th>country</th>\n",
       "      <th>admin1</th>\n",
       "      <th>count</th>\n",
       "      <th>total_count</th>\n",
       "      <th>zero_percentage</th>\n",
       "    </tr>\n",
       "  </thead>\n",
       "  <tbody>\n",
       "    <tr>\n",
       "      <th>13</th>\n",
       "      <td>China</td>\n",
       "      <td>hainan</td>\n",
       "      <td>88</td>\n",
       "      <td>88</td>\n",
       "      <td>100.000000</td>\n",
       "    </tr>\n",
       "    <tr>\n",
       "      <th>55</th>\n",
       "      <td>United States</td>\n",
       "      <td>OTHER STATES</td>\n",
       "      <td>87</td>\n",
       "      <td>88</td>\n",
       "      <td>98.863636</td>\n",
       "    </tr>\n",
       "    <tr>\n",
       "      <th>56</th>\n",
       "      <td>United States</td>\n",
       "      <td>VERMONT</td>\n",
       "      <td>86</td>\n",
       "      <td>88</td>\n",
       "      <td>97.727273</td>\n",
       "    </tr>\n",
       "    <tr>\n",
       "      <th>2</th>\n",
       "      <td>Australia</td>\n",
       "      <td>Northern Territory</td>\n",
       "      <td>80</td>\n",
       "      <td>88</td>\n",
       "      <td>90.909091</td>\n",
       "    </tr>\n",
       "    <tr>\n",
       "      <th>53</th>\n",
       "      <td>United States</td>\n",
       "      <td>MAINE</td>\n",
       "      <td>71</td>\n",
       "      <td>88</td>\n",
       "      <td>80.681818</td>\n",
       "    </tr>\n",
       "  </tbody>\n",
       "</table>\n",
       "</div>"
      ],
      "text/plain": [
       "          country              admin1  count  total_count  zero_percentage\n",
       "13          China              hainan     88           88       100.000000\n",
       "55  United States        OTHER STATES     87           88        98.863636\n",
       "56  United States             VERMONT     86           88        97.727273\n",
       "2       Australia  Northern Territory     80           88        90.909091\n",
       "53  United States               MAINE     71           88        80.681818"
      ]
     },
     "execution_count": 22,
     "metadata": {},
     "output_type": "execute_result"
    }
   ],
   "source": [
    "# Calculate the total number of records for each region\n",
    "total_counts = updated_wheat_data.groupby(['country', 'admin1']).size().reset_index(name='total_count')\n",
    "\n",
    "# Merge the zero counts with total counts to calculate the percentage\n",
    "merged_counts = pd.merge(zero_all_counts, total_counts, on=['country', 'admin1'])\n",
    "\n",
    "# Calculate the percentage of zero counts out of total counts for each region\n",
    "merged_counts['zero_percentage'] = merged_counts['count'] / merged_counts['total_count'] * 100\n",
    "\n",
    "# Filter out regions with more than 50% zero counts\n",
    "filtered_regions = merged_counts[merged_counts['zero_percentage'] <= 50]\n",
    "\n",
    "# Drop the regions with more than 50% zero counts from the original data\n",
    "filtered_data = updated_wheat_data.merge(filtered_regions[['country', 'admin1']], on=['country', 'admin1'], how='right')\n",
    "\n",
    "# Now we should update the zero counts based on the filtered data\n",
    "updated_zero_counts = filtered_data[(filtered_data['production (tonnes)'] == 0) & \n",
    "                                    (filtered_data['hectares (ha)'] == 0) & \n",
    "                                    (filtered_data['yield(tonnes/ha)'] == 0)].groupby(['country', 'admin1']).size().reset_index(name='count')\n",
    "\n",
    "# Sorting the updated zero counts\n",
    "updated_zero_counts_sorted = updated_zero_counts.sort_values(by='count', ascending=False)\n",
    "\n",
    "# Display the resulting DataFrame\n",
    "merged_counts.sort_values(by='zero_percentage',ascending=False).head()\n"
   ]
  },
  {
   "cell_type": "markdown",
   "id": "603293f3",
   "metadata": {},
   "source": [
    "Our analysis has identified regions within countries that haven't reported data for 50% of the years, indicating potential inconsistencies or gaps in the data.\n",
    "\n",
    "Here are some of the regions that will be dropped, along with their zero percentage:\n",
    "\n",
    "- China, hainan (100% zeros)\n",
    "- United States, OTHER STATES (98.89% zeros)\n",
    "- United States, VERMONT (97.72% zeros)\n",
    "- Australia, Northern Territory (90.90% zeros)\n",
    "- United States, MAINE (80.68% zeros)\n",
    "...\n",
    "These regions reported zero agricultural activity for maize for more than half of the years since 1930.\n",
    "\n",
    "This process ensures that we maintain data quality and focus on regions with more reliable and consistent data for further analysis. The resulting data represents a more robust and refined dataset for our study."
   ]
  },
  {
   "cell_type": "code",
   "execution_count": 23,
   "id": "2146275d",
   "metadata": {},
   "outputs": [],
   "source": [
    "updated_wheat_data = filtered_data"
   ]
  },
  {
   "cell_type": "markdown",
   "id": "1dfcfa8b",
   "metadata": {},
   "source": [
    "### Replace every 0 with NaN"
   ]
  },
  {
   "cell_type": "code",
   "execution_count": 24,
   "id": "b937a5ff",
   "metadata": {},
   "outputs": [],
   "source": [
    "# Replace every 0 with NaN in the corrected column names\n",
    "updated_wheat_data['production (tonnes)'] = updated_wheat_data['production (tonnes)'].replace(0, np.nan)\n",
    "updated_wheat_data['hectares (ha)'] = updated_wheat_data['hectares (ha)'].replace(0, np.nan)"
   ]
  },
  {
   "cell_type": "markdown",
   "id": "1051cf78",
   "metadata": {},
   "source": [
    "### Checking for missing values"
   ]
  },
  {
   "cell_type": "code",
   "execution_count": 25,
   "id": "1fc050c9",
   "metadata": {},
   "outputs": [
    {
     "data": {
      "text/plain": [
       "country                  0\n",
       "admin1                   0\n",
       "crop                     0\n",
       "Harvest_year             0\n",
       "yield(tonnes/ha)         0\n",
       "production (tonnes)    642\n",
       "hectares (ha)          649\n",
       "dtype: int64"
      ]
     },
     "execution_count": 25,
     "metadata": {},
     "output_type": "execute_result"
    }
   ],
   "source": [
    "# Check for missing values\n",
    "missing_values = updated_wheat_data.isnull().sum()\n",
    "missing_values\n"
   ]
  },
  {
   "cell_type": "markdown",
   "id": "a0c827ef",
   "metadata": {},
   "source": [
    "## 7. Data Imputation for Zero Values and Data Smoothing\n",
    "\n",
    "The focus of this section is to address zero values in key production columns, which may represent missing or unrecorded data, and to apply imputation techniques to estimate these missing values.\n",
    "\n",
    "Given these observations, here are a few imputation methods that could be appropriate:\n",
    "\n",
    "- Linear Interpolation: This could be a good starting point given the trends in the data, as it assumes a straight-line relationship between the points before and after the missing data.\n",
    "\n",
    "- Polynomial or Spline Interpolation: If the trends appear to be non-linear, these methods might provide a better fit for the data.\n",
    "\n",
    "- Time Series Decomposition: If we decompose the series and find a stable trend, we might be able to impute the missing data based on this trend component.\n",
    "\n",
    "- Model-Based Imputation: Fitting a time series model (like ARIMA) to the non-missing data and using it to predict the missing values could also be a good approach if the data has a strong autocorrelation structure.\n",
    "\n",
    "\n",
    "*We decided to use Linear interpolation.*\n",
    "- Linear interpolation is a straightforward method that will fill in the missing values by connecting the points immediately before and after the missing data with a straight line. This approach assumes that the change between observations is linear, which can be reasonable if the gaps are not too large and the data doesn't show strong non-linear trends.\n",
    "\n",
    "\n",
    "**We still have MISSING VALUES.**\n",
    "The NaN values in both hectares (ha) and production (tonnes) columns are distributed throughout the dataset, and not just at the beginning or end. This indicates that the reason linear interpolation did not fill these NaN values is not because they are at the edges, but possibly because these NaN values are isolated or surrounded by other NaN values, making interpolation between two non-NaN values impossible.\n",
    "\n",
    "To address this, we might need to take a different approach for these isolated or clustered NaN values:\n",
    "\n",
    "- Forward Fill (ffill) or Backward Fill (bfill): If the NaN values are at the beginning or end of the series, or if they are isolated, we can fill them in with the nearest available value.\n",
    ".\n",
    "- Hybrid Approach: Use interpolation where possible and then apply forward/backward filling for remaining NaN values.\n",
    "\n",
    "*We decided to use Hybrid Approach as it fits our problem.*\n"
   ]
  },
  {
   "cell_type": "code",
   "execution_count": 26,
   "id": "43f455b9",
   "metadata": {},
   "outputs": [],
   "source": [
    "\n",
    "# Sort the DataFrame by 'country', 'admin1', and 'Harvest_year'\n",
    "cropstats_maize_df_sorted = updated_wheat_data.sort_values(by=['admin1', 'Harvest_year'])\n",
    "\n",
    "# Group the data by 'country' and 'admin1'\n",
    "grouped = cropstats_maize_df_sorted.groupby(['admin1'])\n",
    "\n",
    "# Apply linear interpolation within each group\n",
    "cropstats_maize_df_interpolated = grouped.apply(lambda g: g.interpolate(method='linear'))\n",
    "\n",
    "# Now apply forward fill, then backward fill within each group\n",
    "cropstats_maize_df_filled = grouped.apply(lambda g: g.ffill().bfill())\n",
    "\n",
    "# Reset the index to flatten the DataFrame after group operations\n",
    "cropstats_maize_df_filled.reset_index(drop=True, inplace=True)\n",
    "\n",
    "cropstats_maize_df_filled.head()  # Display the first few rows to confirm the changes\n",
    "\n",
    "updated_wheat_data = cropstats_maize_df_filled"
   ]
  },
  {
   "cell_type": "markdown",
   "id": "c427fc37",
   "metadata": {},
   "source": [
    "## 8. Correcting yield values"
   ]
  },
  {
   "cell_type": "code",
   "execution_count": 27,
   "id": "82ccd17a",
   "metadata": {},
   "outputs": [],
   "source": [
    "# Replace yield values that are zero with the calculated value of production divided by hectares\n",
    "updated_wheat_data .loc[updated_wheat_data ['yield(tonnes/ha)'] == 0, 'yield(tonnes/ha)'] = (\n",
    "    updated_wheat_data ['production (tonnes)'] / updated_wheat_data ['hectares (ha)']\n",
    ")"
   ]
  },
  {
   "cell_type": "markdown",
   "id": "96b83aa6",
   "metadata": {},
   "source": [
    "## 9. Final Check for Missing Values and Saving the Dataset\n",
    "\n",
    "Before concluding our data preparation process, we perform a final check for missing values in the dataset to ensure that all zero values and gaps have been addressed effectively. \n"
   ]
  },
  {
   "cell_type": "code",
   "execution_count": 28,
   "id": "caa99d5b",
   "metadata": {},
   "outputs": [
    {
     "data": {
      "text/plain": [
       "country                0\n",
       "admin1                 0\n",
       "crop                   0\n",
       "Harvest_year           0\n",
       "yield(tonnes/ha)       0\n",
       "production (tonnes)    0\n",
       "hectares (ha)          0\n",
       "dtype: int64"
      ]
     },
     "execution_count": 28,
     "metadata": {},
     "output_type": "execute_result"
    }
   ],
   "source": [
    "# Check for missing values\n",
    "missing_values = updated_wheat_data.isnull().sum()\n",
    "missing_values\n"
   ]
  },
  {
   "cell_type": "code",
   "execution_count": 29,
   "id": "cdff771e",
   "metadata": {},
   "outputs": [],
   "source": [
    "updated_wheat_data.to_csv('wheat.csv')"
   ]
  },
  {
   "cell_type": "code",
   "execution_count": null,
   "id": "e7f80150",
   "metadata": {},
   "outputs": [],
   "source": []
  },
  {
   "cell_type": "code",
   "execution_count": null,
   "id": "b62e3ca2",
   "metadata": {},
   "outputs": [],
   "source": []
  }
 ],
 "metadata": {
  "kernelspec": {
   "display_name": "conda_python3",
   "language": "python",
   "name": "conda_python3"
  },
  "language_info": {
   "codemirror_mode": {
    "name": "ipython",
    "version": 3
   },
   "file_extension": ".py",
   "mimetype": "text/x-python",
   "name": "python",
   "nbconvert_exporter": "python",
   "pygments_lexer": "ipython3",
   "version": "3.10.12"
  }
 },
 "nbformat": 4,
 "nbformat_minor": 5
}
